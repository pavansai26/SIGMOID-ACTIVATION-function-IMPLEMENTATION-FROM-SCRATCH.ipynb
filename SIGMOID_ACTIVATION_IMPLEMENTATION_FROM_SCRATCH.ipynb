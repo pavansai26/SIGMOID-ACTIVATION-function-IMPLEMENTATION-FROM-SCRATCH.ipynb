{
  "nbformat": 4,
  "nbformat_minor": 0,
  "metadata": {
    "colab": {
      "name": "SIGMOID ACTIVATION IMPLEMENTATION FROM SCRATCH.ipynb",
      "provenance": [],
      "private_outputs": true,
      "authorship_tag": "ABX9TyMaXngXmCXRu0Pw7UB0ft/B",
      "include_colab_link": true
    },
    "kernelspec": {
      "name": "python3",
      "display_name": "Python 3"
    }
  },
  "cells": [
    {
      "cell_type": "markdown",
      "metadata": {
        "id": "view-in-github",
        "colab_type": "text"
      },
      "source": [
        "<a href=\"https://colab.research.google.com/github/pavansai26/SIGMOID-ACTIVATION-function-IMPLEMENTATION-FROM-SCRATCH.ipynb/blob/master/SIGMOID_ACTIVATION_IMPLEMENTATION_FROM_SCRATCH.ipynb\" target=\"_parent\"><img src=\"https://colab.research.google.com/assets/colab-badge.svg\" alt=\"Open In Colab\"/></a>"
      ]
    },
    {
      "cell_type": "code",
      "metadata": {
        "id": "cWo7xzXiisSQ",
        "colab_type": "code",
        "colab": {}
      },
      "source": [
        ""
      ],
      "execution_count": null,
      "outputs": []
    },
    {
      "cell_type": "markdown",
      "metadata": {
        "id": "XDzC1sUzjWK3",
        "colab_type": "text"
      },
      "source": [
        "# sigmoid activation function"
      ]
    },
    {
      "cell_type": "markdown",
      "metadata": {
        "id": "FhfXk0dmjpzb",
        "colab_type": "text"
      },
      "source": [
        "formula"
      ]
    },
    {
      "cell_type": "markdown",
      "metadata": {
        "id": "6K3ceNRyjuxL",
        "colab_type": "text"
      },
      "source": [
        "1/(1+exp(-x))"
      ]
    },
    {
      "cell_type": "code",
      "metadata": {
        "id": "ZsZkxyV4je7L",
        "colab_type": "code",
        "colab": {}
      },
      "source": [
        "import numpy as np"
      ],
      "execution_count": null,
      "outputs": []
    },
    {
      "cell_type": "code",
      "metadata": {
        "id": "bnwclV9ajmQ5",
        "colab_type": "code",
        "colab": {}
      },
      "source": [
        "def sigmoid(x):\n",
        "   return 1/(1+np.exp(-x))"
      ],
      "execution_count": null,
      "outputs": []
    },
    {
      "cell_type": "code",
      "metadata": {
        "id": "Ymg2jB-Zj_6C",
        "colab_type": "code",
        "colab": {}
      },
      "source": [
        "# plot inputs and outputs\n",
        "from matplotlib import pyplot\n",
        " \n",
        "# rectified linear function\n",
        "def sigmoid(x):\n",
        "   return 1/(1+np.exp(-x))\n",
        "\n",
        " \n",
        "# define a series of inputs\n",
        "series_in = [x for x in range(-10, 11)]\n",
        "# calculate outputs for our inputs\n",
        "series_out = [sigmoid(x) for x in series_in]\n",
        "# line plot of raw inputs to rectified outputs\n",
        "pyplot.plot(series_in, series_out)\n",
        "pyplot.show()"
      ],
      "execution_count": null,
      "outputs": []
    },
    {
      "cell_type": "code",
      "metadata": {
        "id": "roDEpL9PkVu_",
        "colab_type": "code",
        "colab": {}
      },
      "source": [
        ""
      ],
      "execution_count": null,
      "outputs": []
    }
  ]
}